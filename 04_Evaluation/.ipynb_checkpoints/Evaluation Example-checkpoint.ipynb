{
 "cells": [
  {
   "cell_type": "markdown",
   "id": "ff8d0f31",
   "metadata": {},
   "source": [
    "Required Imports"
   ]
  },
  {
   "cell_type": "code",
   "execution_count": 1,
   "id": "3ce67944",
   "metadata": {},
   "outputs": [],
   "source": [
    "import pandas as pd\n",
    "import numpy as np\n",
    "import requests\n",
    "import json\n",
    "\n",
    "from sklearn.model_selection import train_test_split"
   ]
  },
  {
   "cell_type": "markdown",
   "id": "7cb7b3e5",
   "metadata": {},
   "source": [
    "Initializing variables and preparing data"
   ]
  },
  {
   "cell_type": "code",
   "execution_count": 2,
   "id": "8141c9a1",
   "metadata": {},
   "outputs": [
    {
     "name": "stdout",
     "output_type": "stream",
     "text": [
      "    VB     smcAC     smcDC  vib_table  vib_spindle  AE_table  AE_spindle\n",
      "0  0.0 -0.017090  0.625000   0.078125     0.314941  0.087280    0.103760\n",
      "1  0.0  0.263672  0.810547   0.085449     0.301514  0.098267    0.123291\n",
      "2  0.0  0.207520  0.781250   0.078125     0.303955  0.092163    0.104980\n",
      "3  0.0  0.302734  0.849609   0.073242     0.300293  0.095215    0.111084\n",
      "4  0.0  0.239258  1.098633   0.083008     0.299072  0.083008    0.092163\n"
     ]
    }
   ],
   "source": [
    "SERVER_IP = \"127.0.0.1\"\n",
    "pp_PORT = 5000\n",
    "eval_PORT = 5002\n",
    "\n",
    "col_names = [\"VB\",\"smcAC\",\"smcDC\",\"vib_table\",\"vib_spindle\",\"AE_table\",\"AE_spindle\"]\n",
    "target = \"VB\"\n",
    "df = pd.read_csv(r\"C:\\Users\\chh-st\\Documents\\GitHub\\fabos-base-service-ai-pipeline\\06_Test_Framework\\tests\\tests\\WZ_Verschleiss.csv\",\n",
    "                header = None,\n",
    "                names = col_names,\n",
    "                skiprows=1,\n",
    "                index_col= False,\t\t\t\t\t\t\t\t\t\n",
    "                sep = ',')\n",
    "\n",
    "model_name = \"use_case_test_model\"\n",
    "test_size = 0.7\n",
    "\n",
    "print(df.head(5))"
   ]
  },
  {
   "cell_type": "markdown",
   "id": "225c5514",
   "metadata": {},
   "source": [
    "Pre-Processing data to get the data which was used to train the model"
   ]
  },
  {
   "cell_type": "code",
   "execution_count": 4,
   "id": "17ab4a61",
   "metadata": {},
   "outputs": [
    {
     "name": "stdout",
     "output_type": "stream",
     "text": [
      "    VB     smcAC  vib_spindle  AE_spindle\n",
      "0  0.0  0.061127    -1.042969   -1.518555\n",
      "1  0.0  0.182129    -1.161133   -1.369141\n",
      "2  0.0  0.157959    -1.139648   -1.508789\n",
      "3  0.0  0.198975    -1.171875   -1.461914\n",
      "4  0.0  0.171631    -1.182617   -1.607422\n"
     ]
    }
   ],
   "source": [
    "# Which columns to process\n",
    "col = [\"smcAC\", \"smcDC\", \"vib_table\", \"vib_spindle\", \"AE_table\", \"AE_spindle\"]\n",
    "\n",
    "# Set parameters\n",
    "my_param = {\"col\": col}\n",
    "\n",
    "### DATA IN PANDAS DF ###\n",
    "files = {\n",
    "    'data': (\"data\", df.to_json(), 'application/json')\n",
    "}\n",
    "r = requests.post('http://{0}:{1}/nan'.format(SERVER_IP, pp_PORT), params=my_param, files=files)\n",
    "df_json = r.json()\n",
    "resp_df = pd.DataFrame.from_dict(df_json)\n",
    "# print(resp_df.head(1))\n",
    "        \n",
    "# Call preprocessing service - standardize values in columns \"col\"\n",
    "files = {\n",
    "    'data': (\"data\", resp_df.to_json(), 'application/json')\n",
    "}\n",
    "r = requests.post('http://{0}:{1}/std'.format(SERVER_IP, pp_PORT), params=my_param, files=files)\n",
    "df_json = r.json()\n",
    "resp_df = pd.DataFrame.from_dict(df_json)\n",
    "# print(resp_df.head(1))\n",
    "\n",
    "# Call preprocessing service - Remove strongly correlating features\n",
    "files = {\n",
    "    'data': (\"data\", resp_df.to_json(), 'application/json')\n",
    "}        \n",
    "r = requests.post('http://{0}:{1}/rm_corr'.format(SERVER_IP, pp_PORT), params=my_param, files=files)\n",
    "df_json = r.json()\n",
    "resp_df = pd.DataFrame.from_dict(df_json)\n",
    "print(resp_df.head(5))"
   ]
  },
  {
   "cell_type": "markdown",
   "id": "77d8bbdb",
   "metadata": {},
   "source": [
    "Evaluation service - single model evaluation"
   ]
  },
  {
   "cell_type": "code",
   "execution_count": null,
   "id": "7e8cd4b5",
   "metadata": {},
   "outputs": [],
   "source": [
    "tmp_df = resp_df\n",
    "y = tmp_df[target].values\n",
    "X = tmp_df.drop(target, axis=1).values\n",
    "\n",
    "X_train, X_test, y_train, y_test = train_test_split(X, y, test_size=test_size, random_state = 42) \n",
    "\n",
    "X_test_lists = X_test.tolist()\n",
    "y_test_lists = y_test.tolist()\n",
    "\n",
    "X_test_json_str = json.dumps(X_test_lists)\n",
    "y_test_json_str = json.dumps(y_test_lists)\n",
    "\n",
    "files = {\n",
    "    'X_test': (\"X_test\", X_test_json_str, 'application/json'),\n",
    "    'y_test': (\"y_test\", y_test_json_str, 'application/json'),\n",
    "    'model': (model_name, open(\"C:/Users/chh-st/Documents/GitHub/fabos-base-service-ai-pipeline/\" + model_name + '.zip', 'rb'), 'application/octet-stream'),\n",
    "    'model_2': (\"use_case_test_model_2\", open(\"C:/Users/chh-st/Documents/GitHub/fabos-base-service-ai-pipeline/use_case_test_model_2.zip\", 'rb'), 'application/octet-stream')\n",
    "}\n",
    "\n",
    "# Set parameters\n",
    "metrics = [\"mse\", \"mae\", \"mape\"]\n",
    "my_param = {\"metric\": metrics}\n",
    "\n",
    "r = requests.post('http://{0}:{1}/evaluate'.format(SERVER_IP, eval_PORT), params=my_param, files=files)\n",
    "resp = r.json()\n",
    "print(resp)\n",
    "\n",
    "r = requests.post('http://{0}:{1}/benchmark'.format(SERVER_IP, eval_PORT), params=my_param, files=files)\n",
    "resp = r.json()\n",
    "print(resp)"
   ]
  }
 ],
 "metadata": {
  "kernelspec": {
   "display_name": "Python 3",
   "language": "python",
   "name": "python3"
  },
  "language_info": {
   "codemirror_mode": {
    "name": "ipython",
    "version": 3
   },
   "file_extension": ".py",
   "mimetype": "text/x-python",
   "name": "python",
   "nbconvert_exporter": "python",
   "pygments_lexer": "ipython3",
   "version": "3.8.8"
  }
 },
 "nbformat": 4,
 "nbformat_minor": 5
}
