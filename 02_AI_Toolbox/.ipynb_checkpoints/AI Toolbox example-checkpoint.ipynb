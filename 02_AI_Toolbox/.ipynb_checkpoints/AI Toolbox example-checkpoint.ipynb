{
 "cells": [
  {
   "cell_type": "markdown",
   "id": "583a84de",
   "metadata": {},
   "source": [
    "Required Imports"
   ]
  },
  {
   "cell_type": "code",
   "execution_count": 4,
   "id": "710a4032",
   "metadata": {},
   "outputs": [],
   "source": [
    "import pandas as pd\n",
    "import numpy as np\n",
    "import requests\n",
    "import json"
   ]
  },
  {
   "cell_type": "markdown",
   "id": "210f95ea",
   "metadata": {},
   "source": [
    "Setting up Server IP and Ports along with required Data for example"
   ]
  },
  {
   "cell_type": "code",
   "execution_count": 5,
   "id": "b6dfb03b",
   "metadata": {},
   "outputs": [
    {
     "name": "stdout",
     "output_type": "stream",
     "text": [
      "    VB     smcAC     smcDC  vib_table  vib_spindle  AE_table  AE_spindle\n",
      "0  0.0 -0.017090  0.625000   0.078125     0.314941  0.087280    0.103760\n",
      "1  0.0  0.263672  0.810547   0.085449     0.301514  0.098267    0.123291\n",
      "2  0.0  0.207520  0.781250   0.078125     0.303955  0.092163    0.104980\n",
      "3  0.0  0.302734  0.849609   0.073242     0.300293  0.095215    0.111084\n",
      "4  0.0  0.239258  1.098633   0.083008     0.299072  0.083008    0.092163\n"
     ]
    }
   ],
   "source": [
    "SERVER_IP = \"127.0.0.1\"\n",
    "pp_PORT = 5000\n",
    "tb_PORT = 5001\n",
    "\n",
    "col_names = [\"VB\",\"smcAC\",\"smcDC\",\"vib_table\",\"vib_spindle\",\"AE_table\",\"AE_spindle\"]\n",
    "target = \"VB\"\n",
    "df = pd.read_csv(r\"C:\\Users\\chh-st\\Documents\\GitHub\\fabos-base-service-ai-pipeline\\06_Test_Framework\\tests\\tests\\WZ_Verschleiss.csv\",\n",
    "                header = None,\n",
    "                names = col_names,\n",
    "                skiprows=1,\n",
    "                index_col= False,\t\t\t\t\t\t\t\t\t\n",
    "                sep = ',')\n",
    "\n",
    "model_name = \"use_case_test_model\"\n",
    "test_size = 0.7\n",
    "model = \"reg\"\n",
    "max_trials = 5\n",
    "epochs = 10\n",
    "print(df.head(5))"
   ]
  },
  {
   "cell_type": "markdown",
   "id": "ee0fa595",
   "metadata": {},
   "source": [
    "Pre-Processing Data before calling ai-toolbox service"
   ]
  },
  {
   "cell_type": "code",
   "execution_count": 6,
   "id": "d5a6303d",
   "metadata": {},
   "outputs": [
    {
     "name": "stdout",
     "output_type": "stream",
     "text": [
      "    VB     smcAC  vib_spindle  AE_spindle\n",
      "0  0.0  0.061127    -1.042969   -1.518555\n",
      "1  0.0  0.182129    -1.161133   -1.369141\n",
      "2  0.0  0.157959    -1.139648   -1.508789\n",
      "3  0.0  0.198975    -1.171875   -1.461914\n",
      "4  0.0  0.171631    -1.182617   -1.607422\n"
     ]
    }
   ],
   "source": [
    "# Which columns to process\n",
    "col = [\"smcAC\", \"smcDC\", \"vib_table\", \"vib_spindle\", \"AE_table\", \"AE_spindle\"]\n",
    "\n",
    "# Set parameters\n",
    "my_param = {\"col\": col}\n",
    "\n",
    "### DATA IN PANDAS DF ###\n",
    "files = {\n",
    "    'data': (\"data\", df.to_json(), 'application/json')\n",
    "}\n",
    "r = requests.post('http://{0}:{1}/nan'.format(SERVER_IP, pp_PORT), params=my_param, files=files)\n",
    "df_json = r.json()\n",
    "resp_df = pd.DataFrame.from_dict(df_json)\n",
    "# print(resp_df.head(1))\n",
    "        \n",
    "# Call preprocessing service - standardize values in columns \"col\"\n",
    "files = {\n",
    "    'data': (\"data\", resp_df.to_json(), 'application/json')\n",
    "}\n",
    "r = requests.post('http://{0}:{1}/std'.format(SERVER_IP, pp_PORT), params=my_param, files=files)\n",
    "df_json = r.json()\n",
    "resp_df = pd.DataFrame.from_dict(df_json)\n",
    "# print(resp_df.head(1))\n",
    "\n",
    "# Call preprocessing service - Remove strongly correlating features\n",
    "files = {\n",
    "    'data': (\"data\", resp_df.to_json(), 'application/json')\n",
    "}        \n",
    "r = requests.post('http://{0}:{1}/rm_corr'.format(SERVER_IP, pp_PORT), params=my_param, files=files)\n",
    "df_json = r.json()\n",
    "resp_df = pd.DataFrame.from_dict(df_json)\n",
    "print(resp_df.head(5))"
   ]
  },
  {
   "cell_type": "markdown",
   "id": "716070ef",
   "metadata": {},
   "source": [
    "Splitting data for model Training"
   ]
  },
  {
   "cell_type": "code",
   "execution_count": 9,
   "id": "1e79d140",
   "metadata": {},
   "outputs": [],
   "source": [
    "from sklearn.model_selection import train_test_split\n",
    "\n",
    "metrics = [\"mse\", \"mae\", \"mape\" ]\n",
    "\n",
    "# Set parameters\n",
    "my_param = {\"model\": model, \"target\": target, \"test_size\": test_size, \"col\": df.columns.drop(\"VB\").values, \"max_trials\": max_trials, \"epochs\": epochs, \"metric\": metrics}\n",
    "\n",
    "tmp_df = resp_df\n",
    "y = tmp_df[target].values\n",
    "X = tmp_df.drop(target, axis=1).values\n",
    "\n",
    "X_train, X_test, y_train, y_test = train_test_split(X, y, test_size=test_size, random_state = 42) \n",
    "\n",
    "X_train_lists = X_train.tolist()\n",
    "y_train_lists = y_train.tolist()\n",
    "\n",
    "X_train_json_str = json.dumps(X_train_lists)\n",
    "y_train_json_str = json.dumps(y_train_lists)\n",
    "        \n",
    "files = {\n",
    "    'X_train': (\"X_train\", X_train_json_str, 'application/json'),\n",
    "    'y_train': (\"y_train\", y_train_json_str, 'application/json')\n",
    "}"
   ]
  },
  {
   "cell_type": "markdown",
   "id": "2ecc2bbc",
   "metadata": {},
   "source": [
    "Call ai-toolbox service"
   ]
  },
  {
   "cell_type": "code",
   "execution_count": 13,
   "id": "26ddda6b",
   "metadata": {},
   "outputs": [
    {
     "name": "stdout",
     "output_type": "stream",
     "text": [
      "<Response [200]>\n"
     ]
    }
   ],
   "source": [
    "r = requests.post('http://{0}:{1}/automl'.format(SERVER_IP, tb_PORT), params=my_param, files=files)  \n",
    "print(r)"
   ]
  },
  {
   "cell_type": "markdown",
   "id": "8072edb6",
   "metadata": {},
   "source": [
    "The zippped model is stored in the zipped model folder so as to be able to transfer that file between services"
   ]
  },
  {
   "cell_type": "markdown",
   "id": "50881a08",
   "metadata": {},
   "source": [
    "The zipped file can be extracted as it has the same name as the model name varaiable"
   ]
  },
  {
   "cell_type": "code",
   "execution_count": 15,
   "id": "0e54696e",
   "metadata": {},
   "outputs": [
    {
     "name": "stdout",
     "output_type": "stream",
     "text": [
      "Done\n"
     ]
    }
   ],
   "source": [
    "with open(model_name + \".zip\", 'wb') as s:\n",
    "    s.write(r.content)\n",
    "\n",
    "print(\"Done\")"
   ]
  },
  {
   "cell_type": "code",
   "execution_count": null,
   "id": "80736278",
   "metadata": {},
   "outputs": [],
   "source": []
  }
 ],
 "metadata": {
  "kernelspec": {
   "display_name": "Python 3",
   "language": "python",
   "name": "python3"
  },
  "language_info": {
   "codemirror_mode": {
    "name": "ipython",
    "version": 3
   },
   "file_extension": ".py",
   "mimetype": "text/x-python",
   "name": "python",
   "nbconvert_exporter": "python",
   "pygments_lexer": "ipython3",
   "version": "3.8.8"
  }
 },
 "nbformat": 4,
 "nbformat_minor": 5
}
