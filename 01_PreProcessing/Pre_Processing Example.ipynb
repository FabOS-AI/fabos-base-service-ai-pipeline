{
 "cells": [
  {
   "cell_type": "markdown",
   "id": "3b4c913a",
   "metadata": {},
   "source": [
    "Required Imports"
   ]
  },
  {
   "cell_type": "code",
   "execution_count": 1,
   "id": "21e04fb8",
   "metadata": {},
   "outputs": [],
   "source": [
    "import pandas as pd\n",
    "import numpy as np\n",
    "import requests\n",
    "import json"
   ]
  },
  {
   "cell_type": "markdown",
   "id": "1b530861",
   "metadata": {},
   "source": [
    "Setting up Server IP and Ports along with required Data for example"
   ]
  },
  {
   "cell_type": "code",
   "execution_count": 8,
   "id": "c3c4d859",
   "metadata": {},
   "outputs": [
    {
     "name": "stdout",
     "output_type": "stream",
     "text": [
      "    VB     smcAC     smcDC  vib_table  vib_spindle  AE_table  AE_spindle\n",
      "0  0.0 -0.017090  0.625000   0.078125     0.314941  0.087280    0.103760\n",
      "1  0.0  0.263672  0.810547   0.085449     0.301514  0.098267    0.123291\n",
      "2  0.0  0.207520  0.781250   0.078125     0.303955  0.092163    0.104980\n",
      "3  0.0  0.302734  0.849609   0.073242     0.300293  0.095215    0.111084\n",
      "4  0.0  0.239258  1.098633   0.083008     0.299072  0.083008    0.092163\n"
     ]
    }
   ],
   "source": [
    "SERVER_IP = \"127.0.0.1\"\n",
    "pp_PORT = 5000\n",
    "\n",
    "col_names = [\"VB\",\"smcAC\",\"smcDC\",\"vib_table\",\"vib_spindle\",\"AE_table\",\"AE_spindle\"]\n",
    "target = \"VB\"\n",
    "df = pd.read_csv(r\"C:\\Users\\chh-st\\Documents\\GitHub\\fabos-base-service-ai-pipeline\\06_Test_Framework\\tests\\tests\\WZ_Verschleiss.csv\",\n",
    "                header = None,\n",
    "                names = col_names,\n",
    "                skiprows=1,\n",
    "                index_col= False,\t\t\t\t\t\t\t\t\t\n",
    "                sep = ',')\n",
    "\n",
    "model_name = \"use_case_test_model\"\n",
    "test_size = 0.7\n",
    "print(df.head(5))"
   ]
  },
  {
   "cell_type": "markdown",
   "id": "0a62b59d",
   "metadata": {},
   "source": [
    "Pre Processing Tests"
   ]
  },
  {
   "cell_type": "code",
   "execution_count": 9,
   "id": "112984fe",
   "metadata": {},
   "outputs": [
    {
     "name": "stdout",
     "output_type": "stream",
     "text": [
      "    VB    smcAC  smcDC  vib_table  vib_spindle  AE_table  AE_spindle\n",
      "0  0.0 -0.01709  0.625   0.078125     0.314941   0.08728     0.10376\n"
     ]
    }
   ],
   "source": [
    "# Which columns to process\n",
    "col = [\"smcAC\", \"smcDC\", \"vib_table\", \"vib_spindle\", \"AE_table\", \"AE_spindle\"]\n",
    "\n",
    "# Set parameters\n",
    "my_param = {\"col\": col}\n",
    "\n",
    "# Call preprocessing service - remove nan values\n",
    "files = {\n",
    "    'data': (\"data\", df.to_json(), 'application/json')\n",
    "}\n",
    "\n",
    "r = requests.post('http://{0}:{1}/nan'.format(SERVER_IP, pp_PORT), params=my_param, files=files)\n",
    "df_json = r.json()\n",
    "resp_df = pd.DataFrame.from_dict(df_json)\n",
    "print(resp_df.head(1))"
   ]
  },
  {
   "cell_type": "markdown",
   "id": "47ec7d63",
   "metadata": {},
   "source": [
    "Get dataframe statistics"
   ]
  },
  {
   "cell_type": "code",
   "execution_count": 12,
   "id": "4e14b954",
   "metadata": {},
   "outputs": [
    {
     "name": "stdout",
     "output_type": "stream",
     "text": [
      "                  VB          smcAC          smcDC      vib_table  \\\n",
      "count  153000.000000  153000.000000  153000.000000  153000.000000   \n",
      "mean        0.279096      -0.158944       7.320832       1.146437   \n",
      "std         0.156959       2.320269       3.075807       0.610216   \n",
      "min         0.000000      -6.113281       0.131836       0.041504   \n",
      "25%         0.155029      -1.811523       5.433594       0.788574   \n",
      "\n",
      "         vib_spindle       AE_table     AE_spindle  \n",
      "count  153000.000000  153000.000000  153000.000000  \n",
      "mean        0.433219       0.236045       0.301786  \n",
      "std         0.113413       0.089178       0.130395  \n",
      "min         0.258789       0.027466       0.078735  \n",
      "25%         0.351562       0.171509       0.200806  \n"
     ]
    }
   ],
   "source": [
    "files = {\n",
    "        'data': (\"data\", resp_df.to_json(), 'application/json')\n",
    "}\n",
    "r = requests.post('http://{0}:{1}/info'.format(SERVER_IP, pp_PORT), params=my_param, files=files)\n",
    "df_json = r.json()\n",
    "stats_df = pd.DataFrame.from_dict(df_json)\n",
    "print(stats_df.head(5))"
   ]
  },
  {
   "cell_type": "markdown",
   "id": "9b6fd3f7",
   "metadata": {},
   "source": [
    "standardize values in columns \"col\""
   ]
  },
  {
   "cell_type": "code",
   "execution_count": 13,
   "id": "ea7fee48",
   "metadata": {},
   "outputs": [
    {
     "name": "stdout",
     "output_type": "stream",
     "text": [
      "    VB     smcAC     smcDC  vib_table  vib_spindle  AE_table  AE_spindle\n",
      "0  0.0  0.061127 -2.175781  -1.750977    -1.042969 -1.668945   -1.518555\n",
      "1  0.0  0.182129 -2.117188  -1.738281    -1.161133 -1.544922   -1.369141\n",
      "2  0.0  0.157959 -2.125000  -1.750977    -1.139648 -1.614258   -1.508789\n",
      "3  0.0  0.198975 -2.103516  -1.758789    -1.171875 -1.579102   -1.461914\n",
      "4  0.0  0.171631 -2.023438  -1.743164    -1.182617 -1.716797   -1.607422\n"
     ]
    }
   ],
   "source": [
    "r = requests.post('http://{0}:{1}/std'.format(SERVER_IP, pp_PORT), params=my_param, files=files)\n",
    "df_json = r.json()\n",
    "resp_df = pd.DataFrame.from_dict(df_json)\n",
    "print(resp_df.head(5))"
   ]
  },
  {
   "cell_type": "markdown",
   "id": "7c5ad3b2",
   "metadata": {},
   "source": [
    "Remove strongly correlating features"
   ]
  },
  {
   "cell_type": "code",
   "execution_count": 14,
   "id": "11101419",
   "metadata": {},
   "outputs": [
    {
     "name": "stdout",
     "output_type": "stream",
     "text": [
      "    VB     smcAC  vib_spindle  AE_spindle\n",
      "0  0.0  0.061127    -1.042969   -1.518555\n",
      "1  0.0  0.182129    -1.161133   -1.369141\n",
      "2  0.0  0.157959    -1.139648   -1.508789\n",
      "3  0.0  0.198975    -1.171875   -1.461914\n",
      "4  0.0  0.171631    -1.182617   -1.607422\n"
     ]
    }
   ],
   "source": [
    "files = {\n",
    "        'data': (\"data\", resp_df.to_json(), 'application/json')\n",
    "}\n",
    "\n",
    "r = requests.post('http://{0}:{1}/rm_corr'.format(SERVER_IP, pp_PORT), params=my_param, files=files)\n",
    "df_json = r.json()\n",
    "resp_df = pd.DataFrame.from_dict(df_json)\n",
    "print(resp_df.head(5))"
   ]
  },
  {
   "cell_type": "code",
   "execution_count": null,
   "id": "3eb2c15f",
   "metadata": {},
   "outputs": [],
   "source": []
  }
 ],
 "metadata": {
  "kernelspec": {
   "display_name": "Python 3",
   "language": "python",
   "name": "python3"
  },
  "language_info": {
   "codemirror_mode": {
    "name": "ipython",
    "version": 3
   },
   "file_extension": ".py",
   "mimetype": "text/x-python",
   "name": "python",
   "nbconvert_exporter": "python",
   "pygments_lexer": "ipython3",
   "version": "3.8.8"
  }
 },
 "nbformat": 4,
 "nbformat_minor": 5
}
